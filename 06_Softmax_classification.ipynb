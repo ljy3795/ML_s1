{
 "cells": [
  {
   "cell_type": "code",
   "execution_count": 1,
   "metadata": {
    "collapsed": true
   },
   "outputs": [],
   "source": [
    "import tensorflow as tf"
   ]
  },
  {
   "cell_type": "code",
   "execution_count": 5,
   "metadata": {
    "collapsed": true
   },
   "outputs": [],
   "source": [
    "x_data = [[1,2,1,1],[2,1,3,2],[3,1,3,4],[4,1,5,5],[1,7,5,5],[1,2,5,6],[1,6,6,6],[1,7,7,7]]\n",
    "y_data = [[0,0,1],[0,0,1],[0,0,1],[0,1,0],[0,1,0],[0,1,0],[1,0,0],[1,0,0]]"
   ]
  },
  {
   "cell_type": "code",
   "execution_count": 6,
   "metadata": {
    "collapsed": true
   },
   "outputs": [],
   "source": [
    "X = tf.placeholder('float',[None,4])\n",
    "Y = tf.placeholder('float',[None,3]) # Y의 개수 : label의 개수"
   ]
  },
  {
   "cell_type": "code",
   "execution_count": 8,
   "metadata": {
    "collapsed": false
   },
   "outputs": [],
   "source": [
    "nb_classes = 3\n",
    "W = tf.Variable(tf.random_normal([4,nb_classes]), name = 'weight')\n",
    "b = tf.Variable(tf.random_normal([nb_classes]), name = 'bias')"
   ]
  },
  {
   "cell_type": "code",
   "execution_count": 11,
   "metadata": {
    "collapsed": false
   },
   "outputs": [],
   "source": [
    "# Softmax classifier\n",
    "\n",
    "## tf.nn.softmax computes softmax activations\n",
    "## softmax = exp(logits) / reduce_sum(exp(logits),dim)\n",
    "hypo = tf.nn.softmax(tf.matmul(X,W)+b) # tf.matmul(X,W)+b = score(or logit) -> by softmax function, to probabilities\n",
    "\n",
    "# Cross entropy cost/loss\n",
    "cost = tf.reduce_mean(-tf.reduce_sum(Y*tf.log(hypo),axis=1))\n",
    "optimizer = tf.train.GradientDescentOptimizer(learning_rate = 0.1).minimize(cost)"
   ]
  },
  {
   "cell_type": "code",
   "execution_count": 19,
   "metadata": {
    "collapsed": false
   },
   "outputs": [
    {
     "name": "stdout",
     "output_type": "stream",
     "text": [
      "0 2.64812\n",
      "200 0.425975\n",
      "400 0.345274\n",
      "600 0.269791\n",
      "800 0.23245\n",
      "1000 0.210406\n",
      "1200 0.192161\n",
      "1400 0.176778\n",
      "1600 0.163625\n",
      "1800 0.152249\n",
      "2000 0.142315\n",
      "2200 0.133569\n",
      "2400 0.12581\n",
      "2600 0.118883\n",
      "2800 0.112663\n",
      "3000 0.107048\n",
      "3200 0.101954\n",
      "3400 0.0973137\n",
      "3600 0.0930692\n",
      "3800 0.089173\n",
      "4000 0.0855837\n",
      "[[  1.06155225e-04   9.99893069e-01   7.71567500e-07]] [1]\n",
      "[[  1.06155225e-04   9.99893069e-01   7.71567500e-07]\n",
      " [  9.70676005e-01   2.77060047e-02   1.61804631e-03]\n",
      " [  9.05474827e-12   2.03207783e-05   9.99979734e-01]] [1 0 2]\n"
     ]
    }
   ],
   "source": [
    "with tf.Session() as sess:\n",
    "    sess.run(tf.global_variables_initializer())\n",
    "    \n",
    "    for step in range(4001):\n",
    "        sess.run(optimizer, feed_dict={X:x_data,Y:y_data})\n",
    "        if step %200 ==0:\n",
    "            print(step, sess.run(cost, feed_dict={X:x_data,Y:y_data}))\n",
    "    \n",
    "    a = sess.run(hypo, feed_dict={X:[[1,11,7,9]]})\n",
    "    print(a, sess.run(tf.arg_max(a,1)))\n",
    "    \n",
    "    all = sess.run(hypo, feed_dict={X:[[1, 11, 7, 9], [1, 3, 4, 3], [1, 1, 0, 1]]})\n",
    "    print(all, sess.run(tf.arg_max(all,1)))"
   ]
  },
  {
   "cell_type": "code",
   "execution_count": 21,
   "metadata": {
    "collapsed": true
   },
   "outputs": [],
   "source": [
    "import numpy as np"
   ]
  },
  {
   "cell_type": "code",
   "execution_count": 23,
   "metadata": {
    "collapsed": true
   },
   "outputs": [],
   "source": [
    "xy = np.loadtxt('data-04-zoo.csv', delimiter=',',dtype=np.float32)\n",
    "x_data = xy[:,0:-1]\n",
    "y_data = xy[:,[-1]]\n",
    "\n",
    "\n",
    "\n",
    "X = tf.placeholder(tf.float32, shape = [None, 16])\n",
    "Y = tf.placeholder(tf.int32, shape = [None,1]) # 0~6, shape=(?,1)\n",
    "\n",
    "nb_classes = 7\n",
    "Y_one_hot = tf.one_hot(Y, nb_classes) # one hot shape (?, 1, 7) ## input indice is rank N -> output will have rank N+1 (new axis created)\n",
    "# default : the new axis is appended at the end\n",
    "Y_one_hot = tf.reshape(Y_one_hot, [-1, nb_classes]) # shape=(?,7) ## -1 : everything"
   ]
  },
  {
   "cell_type": "code",
   "execution_count": 24,
   "metadata": {
    "collapsed": true
   },
   "outputs": [],
   "source": [
    "W = tf.Variable(tf.random_normal([16, nb_classes]), name = 'weight')\n",
    "b = tf.Variable(tf.random_normal([nb_classes]), name = 'bias')"
   ]
  },
  {
   "cell_type": "code",
   "execution_count": 26,
   "metadata": {
    "collapsed": false
   },
   "outputs": [],
   "source": [
    "# 기존\n",
    "# logits = tf.matmul(X,W) + b\n",
    "# hypo = tf.nn.softmax(logits)\n",
    "# cost = tf.reduce_mean(-tf.reduce_sum(Y*tf.log(hypo), axis = 1))\n",
    "\n",
    "logits = tf.matmul(X,W) + b\n",
    "hypo = tf.nn.softmax(logits)\n",
    "\n",
    "cost_i = tf.nn.softmax_cross_entropy_with_logits(logits = logits, labels = Y_one_hot)\n",
    "cost = tf.reduce_mean(cost_i)\n",
    "optimizer = tf.train.GradientDescentOptimizer(learning_rate = 0.1).minimize(cost)"
   ]
  },
  {
   "cell_type": "code",
   "execution_count": 29,
   "metadata": {
    "collapsed": true
   },
   "outputs": [],
   "source": [
    "prediction = tf.argmax(hypo,1) # convert prob to 0~6\n",
    "correct_prediction = tf.equal(prediction, tf.argmax(Y_one_hot,1))\n",
    "accuracy = tf.reduce_mean(tf.cast(correct_prediction, tf.float32))"
   ]
  },
  {
   "cell_type": "code",
   "execution_count": 31,
   "metadata": {
    "collapsed": false
   },
   "outputs": [
    {
     "name": "stdout",
     "output_type": "stream",
     "text": [
      "Step :     0\tLoss: 6.070\tAcc: 23.76%\n",
      "Step :   100\tLoss: 0.642\tAcc: 84.16%\n",
      "Step :   200\tLoss: 0.424\tAcc: 89.11%\n",
      "Step :   300\tLoss: 0.315\tAcc: 93.07%\n",
      "Step :   400\tLoss: 0.248\tAcc: 94.06%\n",
      "Step :   500\tLoss: 0.203\tAcc: 94.06%\n",
      "Step :   600\tLoss: 0.172\tAcc: 96.04%\n",
      "Step :   700\tLoss: 0.148\tAcc: 96.04%\n",
      "Step :   800\tLoss: 0.131\tAcc: 96.04%\n",
      "Step :   900\tLoss: 0.117\tAcc: 98.02%\n",
      "Step :  1000\tLoss: 0.105\tAcc: 98.02%\n",
      "Step :  1100\tLoss: 0.096\tAcc: 99.01%\n",
      "Step :  1200\tLoss: 0.088\tAcc: 99.01%\n",
      "Step :  1300\tLoss: 0.082\tAcc: 99.01%\n",
      "Step :  1400\tLoss: 0.076\tAcc: 100.00%\n",
      "Step :  1500\tLoss: 0.071\tAcc: 100.00%\n",
      "Step :  1600\tLoss: 0.066\tAcc: 100.00%\n",
      "Step :  1700\tLoss: 0.063\tAcc: 100.00%\n",
      "Step :  1800\tLoss: 0.059\tAcc: 100.00%\n",
      "Step :  1900\tLoss: 0.056\tAcc: 100.00%\n",
      "[True] Prediction: 0 True Y: 0\n",
      "[True] Prediction: 0 True Y: 0\n",
      "[True] Prediction: 3 True Y: 3\n",
      "[True] Prediction: 0 True Y: 0\n",
      "[True] Prediction: 0 True Y: 0\n",
      "[True] Prediction: 0 True Y: 0\n",
      "[True] Prediction: 0 True Y: 0\n",
      "[True] Prediction: 3 True Y: 3\n",
      "[True] Prediction: 3 True Y: 3\n",
      "[True] Prediction: 0 True Y: 0\n",
      "[True] Prediction: 0 True Y: 0\n",
      "[True] Prediction: 1 True Y: 1\n",
      "[True] Prediction: 3 True Y: 3\n",
      "[True] Prediction: 6 True Y: 6\n",
      "[True] Prediction: 6 True Y: 6\n",
      "[True] Prediction: 6 True Y: 6\n",
      "[True] Prediction: 1 True Y: 1\n",
      "[True] Prediction: 0 True Y: 0\n",
      "[True] Prediction: 3 True Y: 3\n",
      "[True] Prediction: 0 True Y: 0\n",
      "[True] Prediction: 1 True Y: 1\n",
      "[True] Prediction: 1 True Y: 1\n",
      "[True] Prediction: 0 True Y: 0\n",
      "[True] Prediction: 1 True Y: 1\n",
      "[True] Prediction: 5 True Y: 5\n",
      "[True] Prediction: 4 True Y: 4\n",
      "[True] Prediction: 4 True Y: 4\n",
      "[True] Prediction: 0 True Y: 0\n",
      "[True] Prediction: 0 True Y: 0\n",
      "[True] Prediction: 0 True Y: 0\n",
      "[True] Prediction: 5 True Y: 5\n",
      "[True] Prediction: 0 True Y: 0\n",
      "[True] Prediction: 0 True Y: 0\n",
      "[True] Prediction: 1 True Y: 1\n",
      "[True] Prediction: 3 True Y: 3\n",
      "[True] Prediction: 0 True Y: 0\n",
      "[True] Prediction: 0 True Y: 0\n",
      "[True] Prediction: 1 True Y: 1\n",
      "[True] Prediction: 3 True Y: 3\n",
      "[True] Prediction: 5 True Y: 5\n",
      "[True] Prediction: 5 True Y: 5\n",
      "[True] Prediction: 1 True Y: 1\n",
      "[True] Prediction: 5 True Y: 5\n",
      "[True] Prediction: 1 True Y: 1\n",
      "[True] Prediction: 0 True Y: 0\n",
      "[True] Prediction: 0 True Y: 0\n",
      "[True] Prediction: 6 True Y: 6\n",
      "[True] Prediction: 0 True Y: 0\n",
      "[True] Prediction: 0 True Y: 0\n",
      "[True] Prediction: 0 True Y: 0\n",
      "[True] Prediction: 0 True Y: 0\n",
      "[True] Prediction: 5 True Y: 5\n",
      "[True] Prediction: 4 True Y: 4\n",
      "[True] Prediction: 6 True Y: 6\n",
      "[True] Prediction: 0 True Y: 0\n",
      "[True] Prediction: 0 True Y: 0\n",
      "[True] Prediction: 1 True Y: 1\n",
      "[True] Prediction: 1 True Y: 1\n",
      "[True] Prediction: 1 True Y: 1\n",
      "[True] Prediction: 1 True Y: 1\n",
      "[True] Prediction: 3 True Y: 3\n",
      "[True] Prediction: 3 True Y: 3\n",
      "[True] Prediction: 2 True Y: 2\n",
      "[True] Prediction: 0 True Y: 0\n",
      "[True] Prediction: 0 True Y: 0\n",
      "[True] Prediction: 0 True Y: 0\n",
      "[True] Prediction: 0 True Y: 0\n",
      "[True] Prediction: 0 True Y: 0\n",
      "[True] Prediction: 0 True Y: 0\n",
      "[True] Prediction: 0 True Y: 0\n",
      "[True] Prediction: 0 True Y: 0\n",
      "[True] Prediction: 1 True Y: 1\n",
      "[True] Prediction: 6 True Y: 6\n",
      "[True] Prediction: 3 True Y: 3\n",
      "[True] Prediction: 0 True Y: 0\n",
      "[True] Prediction: 0 True Y: 0\n",
      "[True] Prediction: 2 True Y: 2\n",
      "[True] Prediction: 6 True Y: 6\n",
      "[True] Prediction: 1 True Y: 1\n",
      "[True] Prediction: 1 True Y: 1\n",
      "[True] Prediction: 2 True Y: 2\n",
      "[True] Prediction: 6 True Y: 6\n",
      "[True] Prediction: 3 True Y: 3\n",
      "[True] Prediction: 1 True Y: 1\n",
      "[True] Prediction: 0 True Y: 0\n",
      "[True] Prediction: 6 True Y: 6\n",
      "[True] Prediction: 3 True Y: 3\n",
      "[True] Prediction: 1 True Y: 1\n",
      "[True] Prediction: 5 True Y: 5\n",
      "[True] Prediction: 4 True Y: 4\n",
      "[True] Prediction: 2 True Y: 2\n",
      "[True] Prediction: 2 True Y: 2\n",
      "[True] Prediction: 3 True Y: 3\n",
      "[True] Prediction: 0 True Y: 0\n",
      "[True] Prediction: 0 True Y: 0\n",
      "[True] Prediction: 1 True Y: 1\n",
      "[True] Prediction: 0 True Y: 0\n",
      "[True] Prediction: 5 True Y: 5\n",
      "[True] Prediction: 0 True Y: 0\n",
      "[True] Prediction: 6 True Y: 6\n",
      "[True] Prediction: 1 True Y: 1\n"
     ]
    }
   ],
   "source": [
    "with tf.Session() as sess:\n",
    "    sess.run(tf.global_variables_initializer())\n",
    "    \n",
    "    for step in range(2000):\n",
    "        sess.run(optimizer, feed_dict={X:x_data, Y:y_data})\n",
    "        if step% 100 == 0:\n",
    "            loss, acc = sess.run([cost, accuracy], feed_dict={X:x_data,Y:y_data})\n",
    "            print(\"Step : {:5}\\tLoss: {:.3f}\\tAcc: {:.2%}\".format(step, loss, acc))\n",
    "    \n",
    "    pred = sess.run(prediction, feed_dict={X:x_data})\n",
    "    # y_data: (N,1) = flatten => (N,) matches pred.shape   [[1],[0]] -> [1,0]\n",
    "    for p,y in zip(pred,y_data.flatten()):\n",
    "        print(\"[{}] Prediction: {} True Y: {}\".format(p ==int(y), p, int(y)))"
   ]
  }
 ],
 "metadata": {
  "kernelspec": {
   "display_name": "Python 3",
   "language": "python",
   "name": "python3"
  },
  "language_info": {
   "codemirror_mode": {
    "name": "ipython",
    "version": 3
   },
   "file_extension": ".py",
   "mimetype": "text/x-python",
   "name": "python",
   "nbconvert_exporter": "python",
   "pygments_lexer": "ipython3",
   "version": "3.5.0"
  }
 },
 "nbformat": 4,
 "nbformat_minor": 2
}
