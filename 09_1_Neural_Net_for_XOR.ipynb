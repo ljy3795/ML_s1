{
 "cells": [
  {
   "cell_type": "code",
   "execution_count": 2,
   "metadata": {
    "collapsed": true
   },
   "outputs": [],
   "source": [
    "import numpy as np\n",
    "import tensorflow as tf"
   ]
  },
  {
   "cell_type": "code",
   "execution_count": 4,
   "metadata": {
    "collapsed": true
   },
   "outputs": [],
   "source": [
    "x_data = np.array([[0,0],[0,1],[1,0],[1,1]], dtype=np.float32)\n",
    "y_data = np.array([[0],[1],[1],[0]], dtype=np.float32)"
   ]
  },
  {
   "cell_type": "code",
   "execution_count": 8,
   "metadata": {},
   "outputs": [
    {
     "data": {
      "text/plain": [
       "(4, 1)"
      ]
     },
     "execution_count": 8,
     "metadata": {},
     "output_type": "execute_result"
    }
   ],
   "source": [
    "x_data.shape\n",
    "y_data.shape"
   ]
  },
  {
   "cell_type": "markdown",
   "metadata": {},
   "source": [
    "### Tensorflow code"
   ]
  },
  {
   "cell_type": "code",
   "execution_count": 9,
   "metadata": {
    "collapsed": true
   },
   "outputs": [],
   "source": [
    "X = tf.placeholder(tf.float32)\n",
    "Y = tf.placeholder(tf.float32)\n",
    "W = tf.Variable(tf.random_normal([2,1]), name = 'weight')\n",
    "b = tf.Variable(tf.random_normal([1]), name = 'bias') # out의 개수와 동일"
   ]
  },
  {
   "cell_type": "code",
   "execution_count": 11,
   "metadata": {
    "collapsed": true
   },
   "outputs": [],
   "source": [
    "# Hypothesis using sigmoid (logistic reg.)\n",
    "hypo = tf.sigmoid(tf.matmul(X,W) + b)\n",
    "cost = -tf.reduce_mean(Y*tf.log(hypo) + (1-Y)*tf.log(1-hypo))\n",
    "train = tf.train.GradientDescentOptimizer(learning_rate=0.1).minimize(cost)"
   ]
  },
  {
   "cell_type": "code",
   "execution_count": 14,
   "metadata": {
    "collapsed": true
   },
   "outputs": [],
   "source": [
    "# metric\n",
    "predicted = tf.cast(hypo > 0.5, dtype=tf.float32)\n",
    "accuracy = tf.reduce_mean(tf.cast(tf.equal(predicted,Y), dtype=tf.float32))"
   ]
  },
  {
   "cell_type": "code",
   "execution_count": 18,
   "metadata": {
    "scrolled": true
   },
   "outputs": [
    {
     "name": "stdout",
     "output_type": "stream",
     "text": [
      "0 0.95316 [[ 0.29626906]\n",
      " [-1.41674578]]\n",
      "1000 0.693147 [[ 0.00073746]\n",
      " [-0.00271835]]\n",
      "2000 0.693147 [[ -1.61691933e-05]\n",
      " [ -2.26938118e-05]]\n",
      "3000 0.693147 [[ -3.60543964e-07]\n",
      " [ -3.61438339e-07]]\n",
      "4000 0.693147 [[ -1.32555328e-07]\n",
      " [ -1.33449703e-07]]\n",
      "5000 0.693147 [[ -1.32555328e-07]\n",
      " [ -1.33449703e-07]]\n",
      "6000 0.693147 [[ -1.32555328e-07]\n",
      " [ -1.33449703e-07]]\n",
      "7000 0.693147 [[ -1.32555328e-07]\n",
      " [ -1.33449703e-07]]\n",
      "8000 0.693147 [[ -1.32555328e-07]\n",
      " [ -1.33449703e-07]]\n",
      "9000 0.693147 [[ -1.32555328e-07]\n",
      " [ -1.33449703e-07]]\n",
      "10000 0.693147 [[ -1.32555328e-07]\n",
      " [ -1.33449703e-07]]\n",
      "[[ 0.5]\n",
      " [ 0.5]\n",
      " [ 0.5]\n",
      " [ 0.5]] \n",
      " [[ 0.]\n",
      " [ 0.]\n",
      " [ 0.]\n",
      " [ 0.]] \n",
      " 0.5\n"
     ]
    }
   ],
   "source": [
    "with tf.Session() as sess:\n",
    "    sess.run(tf.global_variables_initializer())\n",
    "    \n",
    "    for step in range(10001):\n",
    "        sess.run(train, feed_dict={X:x_data, Y:y_data})\n",
    "        if step % 1000 == 0:\n",
    "            print(step, sess.run(cost, feed_dict={X:x_data, Y:y_data}), sess.run(W))\n",
    "    \n",
    "    h,c,a = sess.run([hypo, predicted, accuracy], feed_dict={X:x_data, Y:y_data})\n",
    "print(h, \"\\n\", c, \"\\n\", a)"
   ]
  },
  {
   "cell_type": "markdown",
   "metadata": {},
   "source": [
    "### NN"
   ]
  },
  {
   "cell_type": "code",
   "execution_count": 38,
   "metadata": {
    "collapsed": true
   },
   "outputs": [],
   "source": [
    "# Neuron을 두개 쓰기 때문에 [2(입력 - x1, x2),2(출력 2개)], [2]\n",
    "W1 = tf.Variable(tf.random_normal([2,10]), name = 'weight1')\n",
    "b1 = tf.Variable(tf.random_normal([10]), name = 'bias1')\n",
    "l1 = tf.sigmoid(tf.matmul(X,W1) + b1)\n",
    "\n",
    "# [2(layer1의 출력이 2개이기 때문에,1]\n",
    "W2 = tf.Variable(tf.random_normal([10,1]), name = 'weight2')\n",
    "b2 = tf.Variable(tf.random_normal([1]), name = 'bias2')\n",
    "hypo = tf.sigmoid(tf.matmul(l1,W2) + b2)\n",
    "\n",
    "# Hypothesis using sigmoid\n",
    "cost = -tf.reduce_mean(Y*tf.log(hypo) + (1-Y)*tf.log(1-hypo))\n",
    "train = tf.train.GradientDescentOptimizer(learning_rate=0.1).minimize(cost)\n",
    "\n",
    "# metric\n",
    "predicted = tf.cast(hypo > 0.5, dtype=tf.float32)\n",
    "accuracy = tf.reduce_mean(tf.cast(tf.equal(predicted,Y), dtype=tf.float32))"
   ]
  },
  {
   "cell_type": "code",
   "execution_count": 39,
   "metadata": {},
   "outputs": [
    {
     "name": "stdout",
     "output_type": "stream",
     "text": [
      "0 1.03308 [[ 1.62142992]\n",
      " [ 0.73331314]]\n",
      "1000 0.499593 [[ 1.62142992]\n",
      " [ 0.73331314]]\n",
      "2000 0.145796 [[ 1.62142992]\n",
      " [ 0.73331314]]\n",
      "3000 0.058306 [[ 1.62142992]\n",
      " [ 0.73331314]]\n",
      "4000 0.0334034 [[ 1.62142992]\n",
      " [ 0.73331314]]\n",
      "5000 0.0227224 [[ 1.62142992]\n",
      " [ 0.73331314]]\n",
      "6000 0.0169794 [[ 1.62142992]\n",
      " [ 0.73331314]]\n",
      "7000 0.0134483 [[ 1.62142992]\n",
      " [ 0.73331314]]\n",
      "8000 0.0110782 [[ 1.62142992]\n",
      " [ 0.73331314]]\n",
      "9000 0.00938684 [[ 1.62142992]\n",
      " [ 0.73331314]]\n",
      "10000 0.00812378 [[ 1.62142992]\n",
      " [ 0.73331314]]\n",
      "\n",
      "\n",
      "Hypothesis : \n",
      " [[ 0.00470319]\n",
      " [ 0.99044788]\n",
      " [ 0.99379247]\n",
      " [ 0.01188476]] \n",
      " Predicted Value :\n",
      " [[ 0.]\n",
      " [ 1.]\n",
      " [ 1.]\n",
      " [ 0.]] \n",
      " Accuracy :\n",
      " 1.0\n"
     ]
    }
   ],
   "source": [
    "with tf.Session() as sess:\n",
    "    sess.run(tf.global_variables_initializer())\n",
    "    \n",
    "    for step in range(10001):\n",
    "        sess.run(train, feed_dict={X:x_data, Y:y_data})\n",
    "        if step % 1000 == 0:\n",
    "            print(step, sess.run(cost, feed_dict={X:x_data, Y:y_data}), sess.run(W))\n",
    "    \n",
    "    h,c,a = sess.run([hypo, predicted, accuracy], feed_dict={X:x_data, Y:y_data})\n",
    "print(\"\\n\\nHypothesis : \\n\",h, \"\\n Predicted Value :\\n\", c, \"\\n Accuracy :\\n\", a)"
   ]
  }
 ],
 "metadata": {
  "kernelspec": {
   "display_name": "Python 3",
   "language": "python",
   "name": "python3"
  },
  "language_info": {
   "codemirror_mode": {
    "name": "ipython",
    "version": 3
   },
   "file_extension": ".py",
   "mimetype": "text/x-python",
   "name": "python",
   "nbconvert_exporter": "python",
   "pygments_lexer": "ipython3",
   "version": "3.5.2"
  }
 },
 "nbformat": 4,
 "nbformat_minor": 2
}
