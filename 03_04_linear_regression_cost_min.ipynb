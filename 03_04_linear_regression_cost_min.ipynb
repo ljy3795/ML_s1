{
 "cells": [
  {
   "cell_type": "code",
   "execution_count": 1,
   "metadata": {
    "collapsed": true,
    "deletable": true,
    "editable": true
   },
   "outputs": [],
   "source": [
    "import tensorflow as tf\n",
    "import matplotlib.pyplot as plt\n",
    "\n",
    "# X = tf.placeholder(tf.float32, shape = [None])\n",
    "# Y = tf.placeholder(tf.float32, shape = [None])\n",
    "\n",
    "X = [1,2,3]\n",
    "Y = [1,2,3]\n",
    "print(X)\n",
    "print(Y)\n",
    "\n",
    "W = tf.placeholder(tf.float32)\n",
    "hypo = X*W\n",
    "\n",
    "# cost/loss function\n",
    "cost = tf.reduce_mean(tf.square(hypo - Y))\n",
    "# Launch the greaph in a session\n",
    "sess = tf.Session()\n",
    "# Initialize global variable in the graph\n",
    "sess.run(tf.global_variables_initializer())\n",
    "\n",
    "\n",
    "# var for plotting cost function\n",
    "W_val = [] # initial list\n",
    "cost_val = []\n",
    "\n",
    "for i in range(-30,50):\n",
    "    feed_W = i *.1\n",
    "    curr_cost, curr_W = sess.run([cost,W], feed_dict={W:feed_W})\n",
    "    W_val.append(curr_W)\n",
    "    cost_val.append(curr_cost)\n",
    "\n",
    "plt.plot(W_val, cost_val)\n",
    "plt.show()"
   ]
  },
  {
   "cell_type": "code",
   "execution_count": 53,
   "metadata": {
    "collapsed": false,
    "deletable": true,
    "editable": true,
    "scrolled": false
   },
   "outputs": [
    {
     "name": "stdout",
     "output_type": "stream",
     "text": [
      "Tensor(\"random_normal_1:0\", shape=(1,), dtype=float32)\n"
     ]
    }
   ],
   "source": [
    "a = tf.random_normal"
   ]
  },
  {
   "cell_type": "code",
   "execution_count": 62,
   "metadata": {
    "collapsed": false,
    "deletable": true,
    "editable": true
   },
   "outputs": [
    {
     "name": "stdout",
     "output_type": "stream",
     "text": [
      "(0, 2.5734415, array([ 0.257402], dtype=float32))\n",
      "(1, 0.73200107, array([ 0.60394776], dtype=float32))\n",
      "(2, 0.20821357, array([ 0.78877217], dtype=float32))\n",
      "(3, 0.059225205, array([ 0.88734514], dtype=float32))\n",
      "(4, 0.01684629, array([ 0.93991739], dtype=float32))\n",
      "(5, 0.0047918404, array([ 0.96795595], dtype=float32))\n",
      "(6, 0.0013630092, array([ 0.98290986], dtype=float32))\n",
      "(7, 0.00038769981, array([ 0.99088526], dtype=float32))\n",
      "(8, 0.00011027873, array([ 0.99513882], dtype=float32))\n",
      "(9, 3.1368221e-05, array([ 0.99740738], dtype=float32))\n",
      "(10, 8.921791e-06, array([ 0.99861729], dtype=float32))\n",
      "(11, 2.5377383e-06, array([ 0.99926257], dtype=float32))\n",
      "(12, 7.2166426e-07, array([ 0.99960673], dtype=float32))\n",
      "(13, 2.0528283e-07, array([ 0.99979025], dtype=float32))\n",
      "(14, 5.8424458e-08, array([ 0.99988812], dtype=float32))\n",
      "(15, 1.6619619e-08, array([ 0.99994034], dtype=float32))\n",
      "(16, 4.7201119e-09, array([ 0.99996817], dtype=float32))\n",
      "(17, 1.3486824e-09, array([ 0.99998301], dtype=float32))\n",
      "(18, 3.8304884e-10, array([ 0.99999094], dtype=float32))\n",
      "(19, 1.0935371e-10, array([ 0.99999517], dtype=float32))\n",
      "(20, 3.0350833e-11, array([ 0.99999744], dtype=float32))\n"
     ]
    }
   ],
   "source": [
    "# Lab 3 Minimizing Cost\n",
    "import tensorflow as tf\n",
    "tf.set_random_seed(777)  # for reproducibility\n",
    "\n",
    "x_data = [1, 2, 3]\n",
    "y_data = [1, 2, 3]\n",
    "\n",
    "# Try to find values for W and b to compute y_data = W * x_data + b\n",
    "# We know that W should be 1 and b should be 0\n",
    "# But let's use TensorFlow to figure it out\n",
    "W = tf.Variable(tf.random_normal([1]), name='weight')\n",
    "\n",
    "X = tf.placeholder(tf.float32)\n",
    "Y = tf.placeholder(tf.float32)\n",
    "\n",
    "# Our hypothesis for linear model X * W\n",
    "hypothesis = X * W\n",
    "\n",
    "# cost/loss function\n",
    "cost = tf.reduce_mean(tf.square(hypothesis - Y))\n",
    "\n",
    "# Minimize: Gradient Descent using derivative: W -= learning_rate * derivative\n",
    "learning_rate = 0.1\n",
    "gradient = tf.reduce_mean((W * X - Y) * X)\n",
    "descent = W - learning_rate * gradient\n",
    "update = W.assign(descent)\n",
    "\n",
    "# Launch the graph in a session.\n",
    "sess = tf.Session()\n",
    "# Initializes global variables in the graph.\n",
    "sess.run(tf.global_variables_initializer())\n",
    "\n",
    "for step in range(21):\n",
    "    sess.run(update, feed_dict={X: x_data, Y: y_data})\n",
    "    print(step, sess.run(cost, feed_dict={X: x_data, Y: y_data}), sess.run(W))\n"
   ]
  }
 ],
 "metadata": {
  "kernelspec": {
   "display_name": "Python 3",
   "language": "python",
   "name": "python3"
  },
  "language_info": {
   "codemirror_mode": {
    "name": "ipython",
    "version": 3
   },
   "file_extension": ".py",
   "mimetype": "text/x-python",
   "name": "python",
   "nbconvert_exporter": "python",
   "pygments_lexer": "ipython3",
   "version": "3.5.0"
  }
 },
 "nbformat": 4,
 "nbformat_minor": 0
}
