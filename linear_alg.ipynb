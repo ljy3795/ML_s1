{
 "cells": [
  {
   "cell_type": "code",
   "execution_count": 1,
   "metadata": {
    "collapsed": true,
    "deletable": true,
    "editable": true
   },
   "outputs": [],
   "source": [
    "import numpy as np\n",
    "import numpy.linalg as linalg"
   ]
  },
  {
   "cell_type": "code",
   "execution_count": 14,
   "metadata": {
    "collapsed": false
   },
   "outputs": [
    {
     "data": {
      "text/plain": [
       "(5,)"
      ]
     },
     "execution_count": 14,
     "metadata": {},
     "output_type": "execute_result"
    }
   ],
   "source": [
    "x = np.array([1,2,3,4,5])\n",
    "x.shape"
   ]
  },
  {
   "cell_type": "code",
   "execution_count": 11,
   "metadata": {
    "collapsed": false
   },
   "outputs": [
    {
     "data": {
      "text/plain": [
       "(1, 5)"
      ]
     },
     "execution_count": 11,
     "metadata": {},
     "output_type": "execute_result"
    }
   ],
   "source": [
    "x = np.array([[1,2,3,4,5]])\n",
    "x = np.matrix([[1,2,3,4,5]])\n",
    "x.shape"
   ]
  },
  {
   "cell_type": "code",
   "execution_count": 24,
   "metadata": {
    "collapsed": false
   },
   "outputs": [
    {
     "data": {
      "text/plain": [
       "(5, 1)"
      ]
     },
     "execution_count": 24,
     "metadata": {},
     "output_type": "execute_result"
    }
   ],
   "source": [
    "x = np.array([[1],[2],[3],[4],[5]])\n",
    "# x = np.matrix([[1],[2],[3],[4],[5]])\n",
    "x.shape"
   ]
  },
  {
   "cell_type": "code",
   "execution_count": 25,
   "metadata": {
    "collapsed": false
   },
   "outputs": [
    {
     "data": {
      "text/plain": [
       "matrix([[ True,  True,  True,  True,  True]], dtype=bool)"
      ]
     },
     "execution_count": 25,
     "metadata": {},
     "output_type": "execute_result"
    }
   ],
   "source": [
    "# array에 np.matrix하면 행벡터로 변환\n",
    "\n",
    "u = np.array([1,2,3,4,5])\n",
    "u.shape\n",
    "v = np.matrix(u)\n",
    "v.shape\n",
    "v == np.array([[1,2,3,4,5]])"
   ]
  },
  {
   "cell_type": "code",
   "execution_count": 32,
   "metadata": {
    "collapsed": false
   },
   "outputs": [
    {
     "data": {
      "text/plain": [
       "70"
      ]
     },
     "execution_count": 32,
     "metadata": {},
     "output_type": "execute_result"
    }
   ],
   "source": [
    "a = np.array([1,2,3,4,5])\n",
    "b = np.array([2,3,4,5,6])\n",
    "np.multiply(a,b)\n",
    "np.inner(a,b)"
   ]
  },
  {
   "cell_type": "code",
   "execution_count": 59,
   "metadata": {
    "collapsed": false
   },
   "outputs": [
    {
     "data": {
      "text/plain": [
       "matrix([[1, 2],\n",
       "        [4, 5]])"
      ]
     },
     "execution_count": 59,
     "metadata": {},
     "output_type": "execute_result"
    }
   ],
   "source": [
    "X = np.random.normal(0,1,(2,2))\n",
    "Y = np.random.normal(0,1,(2,3))\n",
    "np.matmul(np.transpose(Y),X)\n",
    "Y.T\n",
    "\n",
    "u = np.array([[1,2,3],[4,5,6]])\n",
    "v = np.array([[1,0,0],[0,1,0]])\n",
    "u*v # 성분곱\n",
    "np.matmul(u.T,v)\n",
    "np.matmul(u,v.T)\n",
    "\n",
    "u.T*v.T\n",
    "\n",
    "u = np.matrix([[1,2,3],[4,5,6]])\n",
    "v = np.matrix([[1,0,0],[0,1,0]])\n",
    "# u*v # 성분곱 -> matrix로 했을 경우에는 array발생 (**성분곱이 아닌 행렬곱이기 때문)\n",
    "np.matmul(u.T,v)\n",
    "u*v.T\n",
    "## matrix일 경우에는 기본적으로 행렬로 계산 (np.matmul할 필요 x)"
   ]
  },
  {
   "cell_type": "code",
   "execution_count": 64,
   "metadata": {
    "collapsed": false
   },
   "outputs": [
    {
     "data": {
      "text/plain": [
       "6.6613381477509402e-16"
      ]
     },
     "execution_count": 64,
     "metadata": {},
     "output_type": "execute_result"
    }
   ],
   "source": [
    "np.identity(5)\n",
    "linalg.inv(np.identity(5))\n",
    "linalg.det(np.identity(5))\n",
    "\n",
    "X = np.array([[1,2,3],[4,5,6],[7,8,9]])\n",
    "linalg.inv(X)\n",
    "linalg.det(X)"
   ]
  }
 ],
 "metadata": {
  "kernelspec": {
   "display_name": "Python 3",
   "language": "python",
   "name": "python3"
  },
  "language_info": {
   "codemirror_mode": {
    "name": "ipython",
    "version": 3
   },
   "file_extension": ".py",
   "mimetype": "text/x-python",
   "name": "python",
   "nbconvert_exporter": "python",
   "pygments_lexer": "ipython3",
   "version": "3.5.0"
  }
 },
 "nbformat": 4,
 "nbformat_minor": 2
}
