{
 "cells": [
  {
   "cell_type": "code",
   "execution_count": 8,
   "metadata": {
    "collapsed": true,
    "deletable": true,
    "editable": true
   },
   "outputs": [],
   "source": [
    "import tensorflow as tf"
   ]
  },
  {
   "cell_type": "code",
   "execution_count": 5,
   "metadata": {
    "collapsed": false,
    "deletable": true,
    "editable": true
   },
   "outputs": [],
   "source": [
    "x_train = [1,2,3]\n",
    "y_train = [1,2,3]\n",
    "\n",
    "W = tf.Variable(tf.random_normal([1]), name = 'weight') \n",
    "# tensorflow가 사용하는 변수, trainable var(tf가 learning하면서 바꿈)\n",
    "b = tf.Variable(tf.random_normal([1]), name = 'bias')\n",
    "\n",
    "hypo = x_train * W + b"
   ]
  },
  {
   "cell_type": "code",
   "execution_count": 37,
   "metadata": {
    "collapsed": false,
    "deletable": true,
    "editable": true
   },
   "outputs": [
    {
     "name": "stdout",
     "output_type": "stream",
     "text": [
      "2.5\n"
     ]
    }
   ],
   "source": [
    "t = [1,2,3,4]\n",
    "t2 = [1.,2.,3.,4.]\n",
    "\n",
    "print(sess.run(tf.reduce_mean(t2)))"
   ]
  },
  {
   "cell_type": "code",
   "execution_count": 19,
   "metadata": {
    "collapsed": false,
    "deletable": true,
    "editable": true
   },
   "outputs": [],
   "source": [
    "# cost function\n",
    "cost = tf.reduce_mean(tf.square(hypo - y_train))\n",
    "\n",
    "# Gradient descent method\n",
    "optimizer = tf.train.GradientDescentOptimizer(learning_rate = 0.01)\n",
    "train = optimizer.minimize(cost)\n",
    "\n",
    "\n",
    "# 여기까지 그래프 생성"
   ]
  },
  {
   "cell_type": "code",
   "execution_count": 20,
   "metadata": {
    "collapsed": false,
    "deletable": true,
    "editable": true
   },
   "outputs": [
    {
     "name": "stdout",
     "output_type": "stream",
     "text": [
      "(0, 7.5318227, array([-0.78010941], dtype=float32), array([ 1.23228049], dtype=float32))\n",
      "(20, 0.43607828, array([ 0.19332573], dtype=float32), array([ 1.56578207], dtype=float32))\n",
      "(40, 0.33798596, array([ 0.31596035], dtype=float32), array([ 1.52946615], dtype=float32))\n",
      "(60, 0.30643764, array([ 0.35617509], dtype=float32), array([ 1.46113575], dtype=float32))\n",
      "(80, 0.27830687, array([ 0.38720065], dtype=float32), array([ 1.39280581], dtype=float32))\n",
      "(100, 0.25276279, array([ 0.41607305], dtype=float32), array([ 1.32738113], dtype=float32))\n",
      "(120, 0.22956312, array([ 0.44352245], dtype=float32), array([ 1.26500213], dtype=float32))\n",
      "(140, 0.20849289, array([ 0.46967557], dtype=float32), array([ 1.20555198], dtype=float32))\n",
      "(160, 0.18935651, array([ 0.49459898], dtype=float32), array([ 1.14889526], dtype=float32))\n",
      "(180, 0.17197658, array([ 0.51835096], dtype=float32), array([ 1.0949012], dtype=float32))\n",
      "(200, 0.15619199, array([ 0.54098678], dtype=float32), array([ 1.04344535], dtype=float32))\n",
      "(220, 0.14185609, array([ 0.56255853], dtype=float32), array([ 0.99440724], dtype=float32))\n",
      "(240, 0.12883596, array([ 0.58311671], dtype=float32), array([ 0.94767374], dtype=float32))\n",
      "(260, 0.11701088, array([ 0.6027087], dtype=float32), array([ 0.90313655], dtype=float32))\n",
      "(280, 0.10627114, array([ 0.62137997], dtype=float32), array([ 0.86069244], dtype=float32))\n",
      "(300, 0.096517153, array([ 0.63917369], dtype=float32), array([ 0.82024306], dtype=float32))\n",
      "(320, 0.087658376, array([ 0.65613121], dtype=float32), array([ 0.78169453], dtype=float32))\n",
      "(340, 0.079612695, array([ 0.67229187], dtype=float32), array([ 0.74495763], dtype=float32))\n",
      "(360, 0.072305538, array([ 0.687693], dtype=float32), array([ 0.70994729], dtype=float32))\n",
      "(380, 0.065669067, array([ 0.70237029], dtype=float32), array([ 0.6765824], dtype=float32))\n",
      "(400, 0.059641708, array([ 0.71635771], dtype=float32), array([ 0.64478552], dtype=float32))\n",
      "(420, 0.054167558, array([ 0.72968787], dtype=float32), array([ 0.61448294], dtype=float32))\n",
      "(440, 0.049195822, array([ 0.74239165], dtype=float32), array([ 0.58560449], dtype=float32))\n",
      "(460, 0.044680405, array([ 0.75449824], dtype=float32), array([ 0.55808312], dtype=float32))\n",
      "(480, 0.040579468, array([ 0.76603591], dtype=float32), array([ 0.53185529], dtype=float32))\n",
      "(500, 0.036854934, array([ 0.77703136], dtype=float32), array([ 0.50686002], dtype=float32))\n",
      "(520, 0.033472214, array([ 0.78751016], dtype=float32), array([ 0.4830395], dtype=float32))\n",
      "(540, 0.030400014, array([ 0.79749632], dtype=float32), array([ 0.46033841], dtype=float32))\n",
      "(560, 0.027609766, array([ 0.80701333], dtype=float32), array([ 0.43870422], dtype=float32))\n",
      "(580, 0.025075652, array([ 0.81608295], dtype=float32), array([ 0.41808671], dtype=float32))\n",
      "(600, 0.022774108, array([ 0.82472634], dtype=float32), array([ 0.39843822], dtype=float32))\n",
      "(620, 0.020683795, array([ 0.83296359], dtype=float32), array([ 0.37971309], dtype=float32))\n",
      "(640, 0.018785363, array([ 0.84081364], dtype=float32), array([ 0.36186796], dtype=float32))\n",
      "(660, 0.017061161, array([ 0.84829485], dtype=float32), array([ 0.34486148], dtype=float32))\n",
      "(680, 0.015495226, array([ 0.85542434], dtype=float32), array([ 0.32865426], dtype=float32))\n",
      "(700, 0.014073007, array([ 0.86221892], dtype=float32), array([ 0.31320879], dtype=float32))\n",
      "(720, 0.012781344, array([ 0.86869419], dtype=float32), array([ 0.29848912], dtype=float32))\n",
      "(740, 0.01160822, array([ 0.87486506], dtype=float32), array([ 0.28446123], dtype=float32))\n",
      "(760, 0.010542761, array([ 0.88074595], dtype=float32), array([ 0.27109256], dtype=float32))\n",
      "(780, 0.0095751034, array([ 0.88635051], dtype=float32), array([ 0.25835207], dtype=float32))\n",
      "(800, 0.0086962609, array([ 0.89169163], dtype=float32), array([ 0.24621046], dtype=float32))\n",
      "(820, 0.0078980876, array([ 0.89678168], dtype=float32), array([ 0.23463948], dtype=float32))\n",
      "(840, 0.0071731657, array([ 0.90163255], dtype=float32), array([ 0.22361232], dtype=float32))\n",
      "(860, 0.0065147909, array([ 0.90625542], dtype=float32), array([ 0.21310338], dtype=float32))\n",
      "(880, 0.005916839, array([ 0.91066116], dtype=float32), array([ 0.2030883], dtype=float32))\n",
      "(900, 0.0053737578, array([ 0.91485971], dtype=float32), array([ 0.19354387], dtype=float32))\n",
      "(920, 0.0048805359, array([ 0.91886091], dtype=float32), array([ 0.18444802], dtype=float32))\n",
      "(940, 0.0044325804, array([ 0.92267424], dtype=float32), array([ 0.17577966], dtype=float32))\n",
      "(960, 0.0040257345, array([ 0.92630827], dtype=float32), array([ 0.16751865], dtype=float32))\n",
      "(980, 0.0036562402, array([ 0.92977154], dtype=float32), array([ 0.1596459], dtype=float32))\n",
      "(1000, 0.0033206635, array([ 0.93307197], dtype=float32), array([ 0.15214309], dtype=float32))\n",
      "(1020, 0.0030158714, array([ 0.93621737], dtype=float32), array([ 0.14499296], dtype=float32))\n",
      "(1040, 0.0027390628, array([ 0.93921483], dtype=float32), array([ 0.13817884], dtype=float32))\n",
      "(1060, 0.0024876629, array([ 0.94207162], dtype=float32), array([ 0.13168496], dtype=float32))\n",
      "(1080, 0.0022593357, array([ 0.944794], dtype=float32), array([ 0.12549624], dtype=float32))\n",
      "(1100, 0.00205196, array([ 0.94738847], dtype=float32), array([ 0.11959837], dtype=float32))\n",
      "(1120, 0.0018636208, array([ 0.94986111], dtype=float32), array([ 0.11397766], dtype=float32))\n",
      "(1140, 0.0016925702, array([ 0.9522174], dtype=float32), array([ 0.10862109], dtype=float32))\n",
      "(1160, 0.0015372228, array([ 0.95446295], dtype=float32), array([ 0.10351632], dtype=float32))\n",
      "(1180, 0.0013961321, array([ 0.95660311], dtype=float32), array([ 0.09865144], dtype=float32))\n",
      "(1200, 0.0012679923, array([ 0.95864248], dtype=float32), array([ 0.0940152], dtype=float32))\n",
      "(1220, 0.0011516082, array([ 0.96058613], dtype=float32), array([ 0.08959687], dtype=float32))\n",
      "(1240, 0.0010459094, array([ 0.96243846], dtype=float32), array([ 0.08538616], dtype=float32))\n",
      "(1260, 0.00094991346, array([ 0.96420377], dtype=float32), array([ 0.08137331], dtype=float32))\n",
      "(1280, 0.00086272694, array([ 0.96588606], dtype=float32), array([ 0.07754904], dtype=float32))\n",
      "(1300, 0.0007835406, array([ 0.96748924], dtype=float32), array([ 0.07390451], dtype=float32))\n",
      "(1320, 0.00071162591, array([ 0.96901721], dtype=float32), array([ 0.07043131], dtype=float32))\n",
      "(1340, 0.00064630789, array([ 0.97047329], dtype=float32), array([ 0.06712125], dtype=float32))\n",
      "(1360, 0.00058698736, array([ 0.97186095], dtype=float32), array([ 0.06396676], dtype=float32))\n",
      "(1380, 0.00053310982, array([ 0.97318339], dtype=float32), array([ 0.06096053], dtype=float32))\n",
      "(1400, 0.00048417749, array([ 0.97444367], dtype=float32), array([ 0.0580956], dtype=float32))\n",
      "(1420, 0.00043973769, array([ 0.97564471], dtype=float32), array([ 0.05536532], dtype=float32))\n",
      "(1440, 0.00039937717, array([ 0.9767893], dtype=float32), array([ 0.05276335], dtype=float32))\n",
      "(1460, 0.00036272031, array([ 0.97788012], dtype=float32), array([ 0.05028367], dtype=float32))\n",
      "(1480, 0.00032942792, array([ 0.97891963], dtype=float32), array([ 0.04792052], dtype=float32))\n",
      "(1500, 0.00029919471, array([ 0.97991025], dtype=float32), array([ 0.04566849], dtype=float32))\n",
      "(1520, 0.0002717319, array([ 0.98085451], dtype=float32), array([ 0.04352225], dtype=float32))\n",
      "(1540, 0.00024679236, array([ 0.98175424], dtype=float32), array([ 0.04147687], dtype=float32))\n",
      "(1560, 0.00022413985, array([ 0.98261178], dtype=float32), array([ 0.0395276], dtype=float32))\n",
      "(1580, 0.0002035674, array([ 0.98342896], dtype=float32), array([ 0.03766992], dtype=float32))\n",
      "(1600, 0.00018488134, array([ 0.98420775], dtype=float32), array([ 0.03589955], dtype=float32))\n",
      "(1620, 0.00016791416, array([ 0.98494989], dtype=float32), array([ 0.03421241], dtype=float32))\n",
      "(1640, 0.00015250278, array([ 0.98565722], dtype=float32), array([ 0.03260455], dtype=float32))\n",
      "(1660, 0.0001385045, array([ 0.98633128], dtype=float32), array([ 0.03107225], dtype=float32))\n",
      "(1680, 0.0001257924, array([ 0.98697364], dtype=float32), array([ 0.02961197], dtype=float32))\n",
      "(1700, 0.00011424595, array([ 0.98758584], dtype=float32), array([ 0.02822032], dtype=float32))\n",
      "(1720, 0.00010376092, array([ 0.98816919], dtype=float32), array([ 0.02689409], dtype=float32))\n",
      "(1740, 9.4237766e-05, array([ 0.98872519], dtype=float32), array([ 0.0256302], dtype=float32))\n",
      "(1760, 8.558781e-05, array([ 0.98925507], dtype=float32), array([ 0.02442569], dtype=float32))\n",
      "(1780, 7.7733755e-05, array([ 0.98975992], dtype=float32), array([ 0.02327786], dtype=float32))\n",
      "(1800, 7.0599497e-05, array([ 0.99024123], dtype=float32), array([ 0.02218397], dtype=float32))\n",
      "(1820, 6.4119224e-05, array([ 0.99069995], dtype=float32), array([ 0.02114137], dtype=float32))\n",
      "(1840, 5.8233312e-05, array([ 0.99113697], dtype=float32), array([ 0.02014777], dtype=float32))\n",
      "(1860, 5.2888707e-05, array([ 0.99155343], dtype=float32), array([ 0.01920091], dtype=float32))\n",
      "(1880, 4.8034515e-05, array([ 0.99195039], dtype=float32), array([ 0.01829856], dtype=float32))\n",
      "(1900, 4.3624652e-05, array([ 0.99232876], dtype=float32), array([ 0.01743858], dtype=float32))\n",
      "(1920, 3.9621566e-05, array([ 0.99268925], dtype=float32), array([ 0.01661904], dtype=float32))\n",
      "(1940, 3.5985679e-05, array([ 0.99303281], dtype=float32), array([ 0.01583801], dtype=float32))\n",
      "(1960, 3.2682306e-05, array([ 0.99336022], dtype=float32), array([ 0.0150937], dtype=float32))\n",
      "(1980, 2.968326e-05, array([ 0.99367225], dtype=float32), array([ 0.01438438], dtype=float32))\n",
      "(2000, 2.6958131e-05, array([ 0.99396968], dtype=float32), array([ 0.01370837], dtype=float32))\n"
     ]
    }
   ],
   "source": [
    "sess = tf.Session()\n",
    "sess.run(tf.global_variables_initializer())\n",
    "#variable initialize\n",
    "\n",
    "for step in range(2001):\n",
    "    sess.run(train)\n",
    "    if step % 20 == 0:\n",
    "        print(step, sess.run(cost), sess.run(W), sess.run(b))\n",
    "\n",
    "# -> train -> cost minimize - > hypo -> W / b"
   ]
  },
  {
   "cell_type": "code",
   "execution_count": null,
   "metadata": {
    "collapsed": true,
    "deletable": true,
    "editable": true
   },
   "outputs": [],
   "source": []
  },
  {
   "cell_type": "code",
   "execution_count": 29,
   "metadata": {
    "collapsed": false,
    "deletable": true,
    "editable": true
   },
   "outputs": [
    {
     "name": "stdout",
     "output_type": "stream",
     "text": [
      "(0, 3.0695446e-12, array([ 0.99999785], dtype=float32), array([  4.35046786e-06], dtype=float32))\n",
      "(20, 3.0695446e-12, array([ 0.99999785], dtype=float32), array([  4.35046786e-06], dtype=float32))\n",
      "(40, 3.0695446e-12, array([ 0.99999785], dtype=float32), array([  4.35046786e-06], dtype=float32))\n",
      "(60, 3.0695446e-12, array([ 0.99999785], dtype=float32), array([  4.35046786e-06], dtype=float32))\n",
      "(80, 3.0695446e-12, array([ 0.99999785], dtype=float32), array([  4.35046786e-06], dtype=float32))\n",
      "(100, 3.0695446e-12, array([ 0.99999785], dtype=float32), array([  4.35046786e-06], dtype=float32))\n",
      "(120, 3.0695446e-12, array([ 0.99999785], dtype=float32), array([  4.35046786e-06], dtype=float32))\n",
      "(140, 3.0695446e-12, array([ 0.99999785], dtype=float32), array([  4.35046786e-06], dtype=float32))\n",
      "(160, 3.0695446e-12, array([ 0.99999785], dtype=float32), array([  4.35046786e-06], dtype=float32))\n",
      "(180, 3.0695446e-12, array([ 0.99999785], dtype=float32), array([  4.35046786e-06], dtype=float32))\n",
      "(200, 3.0695446e-12, array([ 0.99999785], dtype=float32), array([  4.35046786e-06], dtype=float32))\n",
      "(220, 3.0695446e-12, array([ 0.99999785], dtype=float32), array([  4.35046786e-06], dtype=float32))\n",
      "(240, 3.0695446e-12, array([ 0.99999785], dtype=float32), array([  4.35046786e-06], dtype=float32))\n",
      "(260, 3.0695446e-12, array([ 0.99999785], dtype=float32), array([  4.35046786e-06], dtype=float32))\n",
      "(280, 3.0695446e-12, array([ 0.99999785], dtype=float32), array([  4.35046786e-06], dtype=float32))\n",
      "(300, 3.0695446e-12, array([ 0.99999785], dtype=float32), array([  4.35046786e-06], dtype=float32))\n",
      "(320, 3.0695446e-12, array([ 0.99999785], dtype=float32), array([  4.35046786e-06], dtype=float32))\n",
      "(340, 3.0695446e-12, array([ 0.99999785], dtype=float32), array([  4.35046786e-06], dtype=float32))\n",
      "(360, 3.0695446e-12, array([ 0.99999785], dtype=float32), array([  4.35046786e-06], dtype=float32))\n",
      "(380, 3.0695446e-12, array([ 0.99999785], dtype=float32), array([  4.35046786e-06], dtype=float32))\n",
      "(400, 3.0695446e-12, array([ 0.99999785], dtype=float32), array([  4.35046786e-06], dtype=float32))\n",
      "(420, 3.0695446e-12, array([ 0.99999785], dtype=float32), array([  4.35046786e-06], dtype=float32))\n",
      "(440, 3.0695446e-12, array([ 0.99999785], dtype=float32), array([  4.35046786e-06], dtype=float32))\n",
      "(460, 3.0695446e-12, array([ 0.99999785], dtype=float32), array([  4.35046786e-06], dtype=float32))\n",
      "(480, 3.0695446e-12, array([ 0.99999785], dtype=float32), array([  4.35046786e-06], dtype=float32))\n",
      "(500, 3.0695446e-12, array([ 0.99999785], dtype=float32), array([  4.35046786e-06], dtype=float32))\n",
      "(520, 3.0695446e-12, array([ 0.99999785], dtype=float32), array([  4.35046786e-06], dtype=float32))\n",
      "(540, 3.0695446e-12, array([ 0.99999785], dtype=float32), array([  4.35046786e-06], dtype=float32))\n",
      "(560, 3.0695446e-12, array([ 0.99999785], dtype=float32), array([  4.35046786e-06], dtype=float32))\n",
      "(580, 3.0695446e-12, array([ 0.99999785], dtype=float32), array([  4.35046786e-06], dtype=float32))\n",
      "(600, 3.0695446e-12, array([ 0.99999785], dtype=float32), array([  4.35046786e-06], dtype=float32))\n",
      "(620, 3.0695446e-12, array([ 0.99999785], dtype=float32), array([  4.35046786e-06], dtype=float32))\n",
      "(640, 3.0695446e-12, array([ 0.99999785], dtype=float32), array([  4.35046786e-06], dtype=float32))\n",
      "(660, 3.0695446e-12, array([ 0.99999785], dtype=float32), array([  4.35046786e-06], dtype=float32))\n",
      "(680, 3.0695446e-12, array([ 0.99999785], dtype=float32), array([  4.35046786e-06], dtype=float32))\n",
      "(700, 3.0695446e-12, array([ 0.99999785], dtype=float32), array([  4.35046786e-06], dtype=float32))\n",
      "(720, 3.0695446e-12, array([ 0.99999785], dtype=float32), array([  4.35046786e-06], dtype=float32))\n",
      "(740, 3.0695446e-12, array([ 0.99999785], dtype=float32), array([  4.35046786e-06], dtype=float32))\n",
      "(760, 3.0695446e-12, array([ 0.99999785], dtype=float32), array([  4.35046786e-06], dtype=float32))\n",
      "(780, 3.0695446e-12, array([ 0.99999785], dtype=float32), array([  4.35046786e-06], dtype=float32))\n",
      "(800, 3.0695446e-12, array([ 0.99999785], dtype=float32), array([  4.35046786e-06], dtype=float32))\n",
      "(820, 3.0695446e-12, array([ 0.99999785], dtype=float32), array([  4.35046786e-06], dtype=float32))\n",
      "(840, 3.0695446e-12, array([ 0.99999785], dtype=float32), array([  4.35046786e-06], dtype=float32))\n",
      "(860, 3.0695446e-12, array([ 0.99999785], dtype=float32), array([  4.35046786e-06], dtype=float32))\n",
      "(880, 3.0695446e-12, array([ 0.99999785], dtype=float32), array([  4.35046786e-06], dtype=float32))\n",
      "(900, 3.0695446e-12, array([ 0.99999785], dtype=float32), array([  4.35046786e-06], dtype=float32))\n",
      "(920, 3.0695446e-12, array([ 0.99999785], dtype=float32), array([  4.35046786e-06], dtype=float32))\n",
      "(940, 3.0695446e-12, array([ 0.99999785], dtype=float32), array([  4.35046786e-06], dtype=float32))\n",
      "(960, 3.0695446e-12, array([ 0.99999785], dtype=float32), array([  4.35046786e-06], dtype=float32))\n",
      "(980, 3.0695446e-12, array([ 0.99999785], dtype=float32), array([  4.35046786e-06], dtype=float32))\n",
      "(1000, 3.0695446e-12, array([ 0.99999785], dtype=float32), array([  4.35046786e-06], dtype=float32))\n",
      "(1020, 3.0695446e-12, array([ 0.99999785], dtype=float32), array([  4.35046786e-06], dtype=float32))\n",
      "(1040, 3.0695446e-12, array([ 0.99999785], dtype=float32), array([  4.35046786e-06], dtype=float32))\n",
      "(1060, 3.0695446e-12, array([ 0.99999785], dtype=float32), array([  4.35046786e-06], dtype=float32))\n",
      "(1080, 3.0695446e-12, array([ 0.99999785], dtype=float32), array([  4.35046786e-06], dtype=float32))\n",
      "(1100, 3.0695446e-12, array([ 0.99999785], dtype=float32), array([  4.35046786e-06], dtype=float32))\n",
      "(1120, 3.0695446e-12, array([ 0.99999785], dtype=float32), array([  4.35046786e-06], dtype=float32))\n",
      "(1140, 3.0695446e-12, array([ 0.99999785], dtype=float32), array([  4.35046786e-06], dtype=float32))\n",
      "(1160, 3.0695446e-12, array([ 0.99999785], dtype=float32), array([  4.35046786e-06], dtype=float32))\n",
      "(1180, 3.0695446e-12, array([ 0.99999785], dtype=float32), array([  4.35046786e-06], dtype=float32))\n",
      "(1200, 3.0695446e-12, array([ 0.99999785], dtype=float32), array([  4.35046786e-06], dtype=float32))\n",
      "(1220, 3.0695446e-12, array([ 0.99999785], dtype=float32), array([  4.35046786e-06], dtype=float32))\n",
      "(1240, 3.0695446e-12, array([ 0.99999785], dtype=float32), array([  4.35046786e-06], dtype=float32))\n",
      "(1260, 3.0695446e-12, array([ 0.99999785], dtype=float32), array([  4.35046786e-06], dtype=float32))\n",
      "(1280, 3.0695446e-12, array([ 0.99999785], dtype=float32), array([  4.35046786e-06], dtype=float32))\n",
      "(1300, 3.0695446e-12, array([ 0.99999785], dtype=float32), array([  4.35046786e-06], dtype=float32))\n",
      "(1320, 3.0695446e-12, array([ 0.99999785], dtype=float32), array([  4.35046786e-06], dtype=float32))\n",
      "(1340, 3.0695446e-12, array([ 0.99999785], dtype=float32), array([  4.35046786e-06], dtype=float32))\n",
      "(1360, 3.0695446e-12, array([ 0.99999785], dtype=float32), array([  4.35046786e-06], dtype=float32))\n",
      "(1380, 3.0695446e-12, array([ 0.99999785], dtype=float32), array([  4.35046786e-06], dtype=float32))\n",
      "(1400, 3.0695446e-12, array([ 0.99999785], dtype=float32), array([  4.35046786e-06], dtype=float32))\n",
      "(1420, 3.0695446e-12, array([ 0.99999785], dtype=float32), array([  4.35046786e-06], dtype=float32))\n",
      "(1440, 3.0695446e-12, array([ 0.99999785], dtype=float32), array([  4.35046786e-06], dtype=float32))\n",
      "(1460, 3.0695446e-12, array([ 0.99999785], dtype=float32), array([  4.35046786e-06], dtype=float32))\n",
      "(1480, 3.0695446e-12, array([ 0.99999785], dtype=float32), array([  4.35046786e-06], dtype=float32))\n",
      "(1500, 3.0695446e-12, array([ 0.99999785], dtype=float32), array([  4.35046786e-06], dtype=float32))\n",
      "(1520, 3.0695446e-12, array([ 0.99999785], dtype=float32), array([  4.35046786e-06], dtype=float32))\n",
      "(1540, 3.0695446e-12, array([ 0.99999785], dtype=float32), array([  4.35046786e-06], dtype=float32))\n",
      "(1560, 3.0695446e-12, array([ 0.99999785], dtype=float32), array([  4.35046786e-06], dtype=float32))\n",
      "(1580, 3.0695446e-12, array([ 0.99999785], dtype=float32), array([  4.35046786e-06], dtype=float32))\n",
      "(1600, 3.0695446e-12, array([ 0.99999785], dtype=float32), array([  4.35046786e-06], dtype=float32))\n",
      "(1620, 3.0695446e-12, array([ 0.99999785], dtype=float32), array([  4.35046786e-06], dtype=float32))\n",
      "(1640, 3.0695446e-12, array([ 0.99999785], dtype=float32), array([  4.35046786e-06], dtype=float32))\n",
      "(1660, 3.0695446e-12, array([ 0.99999785], dtype=float32), array([  4.35046786e-06], dtype=float32))\n",
      "(1680, 3.0695446e-12, array([ 0.99999785], dtype=float32), array([  4.35046786e-06], dtype=float32))\n",
      "(1700, 3.0695446e-12, array([ 0.99999785], dtype=float32), array([  4.35046786e-06], dtype=float32))\n",
      "(1720, 3.0695446e-12, array([ 0.99999785], dtype=float32), array([  4.35046786e-06], dtype=float32))\n",
      "(1740, 3.0695446e-12, array([ 0.99999785], dtype=float32), array([  4.35046786e-06], dtype=float32))\n",
      "(1760, 3.0695446e-12, array([ 0.99999785], dtype=float32), array([  4.35046786e-06], dtype=float32))\n",
      "(1780, 3.0695446e-12, array([ 0.99999785], dtype=float32), array([  4.35046786e-06], dtype=float32))\n",
      "(1800, 3.0695446e-12, array([ 0.99999785], dtype=float32), array([  4.35046786e-06], dtype=float32))\n",
      "(1820, 3.0695446e-12, array([ 0.99999785], dtype=float32), array([  4.35046786e-06], dtype=float32))\n",
      "(1840, 3.0695446e-12, array([ 0.99999785], dtype=float32), array([  4.35046786e-06], dtype=float32))\n",
      "(1860, 3.0695446e-12, array([ 0.99999785], dtype=float32), array([  4.35046786e-06], dtype=float32))\n",
      "(1880, 3.0695446e-12, array([ 0.99999785], dtype=float32), array([  4.35046786e-06], dtype=float32))\n",
      "(1900, 3.0695446e-12, array([ 0.99999785], dtype=float32), array([  4.35046786e-06], dtype=float32))\n",
      "(1920, 3.0695446e-12, array([ 0.99999785], dtype=float32), array([  4.35046786e-06], dtype=float32))\n",
      "(1940, 3.0695446e-12, array([ 0.99999785], dtype=float32), array([  4.35046786e-06], dtype=float32))\n",
      "(1960, 3.0695446e-12, array([ 0.99999785], dtype=float32), array([  4.35046786e-06], dtype=float32))\n",
      "(1980, 3.0695446e-12, array([ 0.99999785], dtype=float32), array([  4.35046786e-06], dtype=float32))\n",
      "(2000, 3.0695446e-12, array([ 0.99999785], dtype=float32), array([  4.35046786e-06], dtype=float32))\n"
     ]
    }
   ],
   "source": [
    "# placehloder 이용방법\n",
    "\n",
    "X = tf.placeholder(tf.float32, shape = [None])\n",
    "Y = tf.placeholder(tf.float32, shape = [None])\n",
    "\n",
    "\n",
    "for step in range(2001):\n",
    "    cost_val, W_val, b_val, _ = sess.run([cost, W, b, train]\n",
    "                ,feed_dict={X:[1,2,3,4,5], Y:[2.1,3.1,4.1,5.1,6.1]}) # input값을 list형태로 한꺼번에 넣을 수 있음\n",
    "    ### = 뒤의 값을 list형태로 받는 것\n",
    "    if step % 20 == 0:\n",
    "        print(step, cost_val, W_val, b_val)"
   ]
  },
  {
   "cell_type": "code",
   "execution_count": 32,
   "metadata": {
    "collapsed": false,
    "deletable": true,
    "editable": true
   },
   "outputs": [
    {
     "name": "stdout",
     "output_type": "stream",
     "text": [
      "[ 1.00000215  2.          2.99999785]\n"
     ]
    }
   ],
   "source": [
    "print(sess.run(hypo, feed_dict={X:[5]}))"
   ]
  }
 ],
 "metadata": {
  "kernelspec": {
   "display_name": "Python 3",
   "language": "python",
   "name": "python3"
  },
  "language_info": {
   "codemirror_mode": {
    "name": "ipython",
    "version": 3
   },
   "file_extension": ".py",
   "mimetype": "text/x-python",
   "name": "python",
   "nbconvert_exporter": "python",
   "pygments_lexer": "ipython3",
   "version": "3.5.0"
  }
 },
 "nbformat": 4,
 "nbformat_minor": 0
}
