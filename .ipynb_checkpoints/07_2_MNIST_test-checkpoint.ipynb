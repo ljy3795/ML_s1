{
 "cells": [
  {
   "cell_type": "code",
   "execution_count": 2,
   "metadata": {
    "collapsed": true
   },
   "outputs": [],
   "source": [
    "import tensorflow as tf\n",
    "\n",
    "from tensorflow.examples.tutorials.mnist import input_data"
   ]
  },
  {
   "cell_type": "code",
   "execution_count": 6,
   "metadata": {
    "collapsed": false
   },
   "outputs": [
    {
     "name": "stdout",
     "output_type": "stream",
     "text": [
      "Extracting MNIST_data./train-images-idx3-ubyte.gz\n",
      "Extracting MNIST_data./train-labels-idx1-ubyte.gz\n",
      "Extracting MNIST_data./t10k-images-idx3-ubyte.gz\n",
      "Extracting MNIST_data./t10k-labels-idx1-ubyte.gz\n"
     ]
    }
   ],
   "source": [
    "mnist = input_data.read_data_sets(\"MNIST_data.\", one_hot = True)"
   ]
  },
  {
   "cell_type": "code",
   "execution_count": 7,
   "metadata": {
    "collapsed": false
   },
   "outputs": [],
   "source": [
    "nb_class = 10\n",
    "\n",
    "X = tf.placeholder('float32', [None, 784])\n",
    "Y = tf.placeholder('float32', [None, nb_class])\n",
    "\n",
    "W = tf.Variable(tf.random_normal([784, nb_class]), name = 'weight')\n",
    "b = tf.Variable(tf.random_normal([nb_class]), name = 'bias')"
   ]
  },
  {
   "cell_type": "code",
   "execution_count": 9,
   "metadata": {
    "collapsed": true
   },
   "outputs": [],
   "source": [
    "hypo = tf.nn.softmax(tf.matmul(X,W) + b)\n",
    "cost = tf.reduce_mean(-tf.reduce_sum(Y*tf.log(hypo), axis = 1))\n",
    "optimizer = tf.train.GradientDescentOptimizer(learning_rate = 0.1).minimize(cost)"
   ]
  },
  {
   "cell_type": "code",
   "execution_count": 10,
   "metadata": {
    "collapsed": true
   },
   "outputs": [],
   "source": [
    "pred = tf.arg_max(hypo, 1)\n",
    "is_correct = tf.equal(pred, tf.arg_max(Y,1))\n",
    "accuracy = tf.reduce_mean(tf.cast(is_correct, tf.float32))"
   ]
  },
  {
   "cell_type": "code",
   "execution_count": 18,
   "metadata": {
    "collapsed": false
   },
   "outputs": [
    {
     "name": "stdout",
     "output_type": "stream",
     "text": [
      "# of Epoch =  0001 cost =  2.839372897\n",
      "# of Epoch =  0002 cost =  1.080333975\n",
      "# of Epoch =  0003 cost =  0.871700290\n",
      "# of Epoch =  0004 cost =  0.767439151\n",
      "# of Epoch =  0005 cost =  0.700338649\n",
      "# of Epoch =  0006 cost =  0.652345834\n",
      "# of Epoch =  0007 cost =  0.615873842\n",
      "# of Epoch =  0008 cost =  0.586534727\n",
      "# of Epoch =  0009 cost =  0.562405129\n",
      "# of Epoch =  0010 cost =  0.541694382\n",
      "# of Epoch =  0011 cost =  0.524246521\n",
      "# of Epoch =  0012 cost =  0.508709912\n",
      "# of Epoch =  0013 cost =  0.495176356\n",
      "# of Epoch =  0014 cost =  0.482800672\n",
      "# of Epoch =  0015 cost =  0.472134947\n",
      "Learning finished\n",
      "Accuracy:  0.8861\n",
      "Label:  [3]\n",
      "Prediction:  [3]\n"
     ]
    }
   ],
   "source": [
    "trainning_epochs = 15 #전체 데이터 셋을 한번 학습시키는 단위 (batch 전체 다 돌았을 때) 10000/100 일때 100번 돌아야 1epcho\n",
    "batch_size = 100\n",
    "\n",
    "with tf.Session() as sess:\n",
    "    sess.run(tf.global_variables_initializer())\n",
    "    \n",
    "    # epoch 부분\n",
    "    for epoch in range(trainning_epochs):\n",
    "        avg_cost = 0\n",
    "        total_batch = int(mnist.train.num_examples/batch_size)\n",
    "        \n",
    "        # batch 부분\n",
    "        for ind in range(total_batch):\n",
    "            batch_xs, batch_ys = mnist.train.next_batch(batch_size)\n",
    "            c, _ = sess.run([cost, optimizer], feed_dict={X:batch_xs, Y:batch_ys})\n",
    "            avg_cost += c/total_batch\n",
    "        \n",
    "        # \n",
    "        print('# of Epoch = ', '{:04d}'.format(epoch+1), 'cost = ', '{:.9f}'.format(avg_cost))\n",
    "    print(\"Learning finished\")\n",
    "    print(\"Accuracy: \", accuracy.eval(session=sess, feed_dict={\n",
    "          X: mnist.test.images, Y: mnist.test.labels}))\n",
    "    \n",
    "    \n",
    "    # Get one and predict\n",
    "    r = rnd.randint(0, mnist.test.num_examples - 1)\n",
    "    \n",
    "    # select label \n",
    "    print(\"Label: \", sess.run(tf.argmax(mnist.test.labels[r:r + 1], 1)))\n",
    "    print(\"Prediction: \", sess.run(\n",
    "        tf.argmax(hypo, 1), feed_dict={X: mnist.test.images[r:r + 1]}))"
   ]
  },
  {
   "cell_type": "code",
   "execution_count": 19,
   "metadata": {
    "collapsed": false
   },
   "outputs": [
    {
     "data": {
      "image/png": "[encoded data removed]",
      "text/plain": [
       "<matplotlib.figure.Figure at 0x11be36a58>"
      ]
     },
     "metadata": {},
     "output_type": "display_data"
    }
   ],
   "source": [
    "# don't know why this makes Travis Build error.\n",
    "plt.imshow(\n",
    "mnist.test.images[r:r + 1].reshape(28, 28),\n",
    "    cmap='Greys',\n",
    "    interpolation='nearest')\n",
    "plt.show()"
   ]
  },
  {
   "cell_type": "code",
   "execution_count": 15,
   "metadata": {
    "collapsed": true
   },
   "outputs": [],
   "source": [
    "import matplotlib.pyplot as plt\n",
    "import random as rnd"
   ]
  },
  {
   "cell_type": "code",
   "execution_count": null,
   "metadata": {
    "collapsed": true
   },
   "outputs": [],
   "source": [
    "r = rnd.randint(0,mnist.test)"
   ]
  }
 ],
 "metadata": {
  "kernelspec": {
   "display_name": "Python 3",
   "language": "python",
   "name": "python3"
  },
  "language_info": {
   "codemirror_mode": {
    "name": "ipython",
    "version": 3
   },
   "file_extension": ".py",
   "mimetype": "text/x-python",
   "name": "python",
   "nbconvert_exporter": "python",
   "pygments_lexer": "ipython3",
   "version": "3.5.2"
  }
 },
 "nbformat": 4,
 "nbformat_minor": 2
}
