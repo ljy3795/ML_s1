{
 "cells": [
  {
   "cell_type": "code",
   "execution_count": 1,
   "metadata": {
    "collapsed": true
   },
   "outputs": [],
   "source": [
    "import tensorflow as tf"
   ]
  },
  {
   "cell_type": "code",
   "execution_count": 5,
   "metadata": {
    "collapsed": true
   },
   "outputs": [],
   "source": [
    "x_data = [[1,2,1,1],[2,1,3,2],[3,1,3,4],[4,1,5,5],[1,7,5,5],[1,2,5,6],[1,6,6,6],[1,7,7,7]]\n",
    "y_data = [[0,0,1],[0,0,1],[0,0,1],[0,1,0],[0,1,0],[0,1,0],[1,0,0],[1,0,0]]"
   ]
  },
  {
   "cell_type": "code",
   "execution_count": 6,
   "metadata": {
    "collapsed": true
   },
   "outputs": [],
   "source": [
    "X = tf.placeholder('float',[None,4])\n",
    "Y = tf.placeholder('float',[None,3]) # Y의 개수 : label의 개수"
   ]
  },
  {
   "cell_type": "code",
   "execution_count": 8,
   "metadata": {
    "collapsed": false
   },
   "outputs": [],
   "source": [
    "nb_classes = 3\n",
    "W = tf.Variable(tf.random_normal([4,nb_classes]), name = 'weight')\n",
    "b = tf.Variable(tf.random_normal([nb_classes]), name = 'bias')"
   ]
  },
  {
   "cell_type": "code",
   "execution_count": 11,
   "metadata": {
    "collapsed": false
   },
   "outputs": [],
   "source": [
    "# Softmax classifier\n",
    "\n",
    "## tf.nn.softmax computes softmax activations\n",
    "## softmax = exp(logits) / reduce_sum(exp(logits),dim)\n",
    "hypo = tf.nn.softmax(tf.matmul(X,W)+b) # tf.matmul(X,W)+b = score(or logit) -> by softmax function, to probabilities\n",
    "\n",
    "# Cross entropy cost/loss\n",
    "cost = tf.reduce_mean(-tf.reduce_sum(Y*tf.log(hypo),axis=1))\n",
    "optimizer = tf.train.GradientDescentOptimizer(learning_rate = 0.1).minimize(cost)"
   ]
  },
  {
   "cell_type": "code",
   "execution_count": 13,
   "metadata": {
    "collapsed": false
   },
   "outputs": [
    {
     "name": "stdout",
     "output_type": "stream",
     "text": [
      "0 1.90406\n",
      "200 0.627468\n",
      "400 0.517625\n",
      "600 0.437989\n",
      "800 0.367742\n",
      "1000 0.298082\n",
      "1200 0.236761\n",
      "1400 0.214565\n",
      "1600 0.196211\n",
      "1800 0.180621\n",
      "2000 0.16723\n",
      "2200 0.155613\n",
      "2400 0.145448\n",
      "2600 0.136486\n",
      "2800 0.128529\n",
      "3000 0.12142\n",
      "3200 0.115033\n",
      "3400 0.109267\n",
      "3600 0.104035\n",
      "3800 0.0992684\n",
      "4000 0.0949089\n"
     ]
    }
   ],
   "source": [
    "with tf.Session() as sess:\n",
    "    sess.run(tf.global_variables_initializer())\n",
    "    \n",
    "    for step in range(4001):\n",
    "        sess.run(optimizer, feed_dict={X:x_data,Y:y_data})\n",
    "        if step %200 ==0:\n",
    "            print(step, sess.run(cost, feed_dict={X:x_data,Y:y_data}))"
   ]
  }
 ],
 "metadata": {
  "kernelspec": {
   "display_name": "Python 3",
   "language": "python",
   "name": "python3"
  },
  "language_info": {
   "codemirror_mode": {
    "name": "ipython",
    "version": 3
   },
   "file_extension": ".py",
   "mimetype": "text/x-python",
   "name": "python",
   "nbconvert_exporter": "python",
   "pygments_lexer": "ipython3",
   "version": "3.5.0"
  }
 },
 "nbformat": 4,
 "nbformat_minor": 2
}
