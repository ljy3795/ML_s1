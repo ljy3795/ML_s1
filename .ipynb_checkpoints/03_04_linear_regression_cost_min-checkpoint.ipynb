{
 "cells": [
  {
   "cell_type": "code",
   "execution_count": 1,
   "metadata": {
    "collapsed": true
   },
   "outputs": [],
   "source": [
    "import tensorflow as tf\n",
    "import matplotlib.pyplot as plt\n",
    "\n",
    "# X = tf.placeholder(tf.float32, shape = [None])\n",
    "# Y = tf.placeholder(tf.float32, shape = [None])\n",
    "\n",
    "X = [1,2,3]\n",
    "Y = [1,2,3]\n",
    "print(X)\n",
    "print(Y)\n",
    "\n",
    "W = tf.placeholder(tf.float32)\n",
    "hypo = X*W\n",
    "\n",
    "# cost/loss function\n",
    "cost = tf.reduce_mean(tf.square(hypo - Y))\n",
    "# Launch the greaph in a session\n",
    "sess = tf.Session()\n",
    "# Initialize global variable in the graph\n",
    "sess.run(tf.global_variables_initializer())\n",
    "\n",
    "\n",
    "# var for plotting cost function\n",
    "W_val = [] # initial list\n",
    "cost_val = []\n",
    "\n",
    "for i in range(-30,50):\n",
    "    feed_W = i *.1\n",
    "    curr_cost, curr_W = sess.run([cost,W], feed_dict={W:feed_W})\n",
    "    W_val.append(curr_W)\n",
    "    cost_val.append(curr_cost)\n",
    "\n",
    "plt.plot(W_val, cost_val)\n",
    "plt.show()"
   ]
  },
  {
   "cell_type": "code",
   "execution_count": 53,
   "metadata": {
    "collapsed": false
   },
   "outputs": [
    {
     "name": "stdout",
     "output_type": "stream",
     "text": [
      "Tensor(\"random_normal_1:0\", shape=(1,), dtype=float32)\n"
     ]
    }
   ],
   "source": [
    "a = tf.random_normal"
   ]
  },
  {
   "cell_type": "code",
   "execution_count": 61,
   "metadata": {
    "collapsed": false
   },
   "outputs": [
    {
     "name": "stdout",
     "output_type": "stream",
     "text": [
      "(0, 21.23852, -1.1333333)\n",
      "(1, 6.0411782, -0.13777775)\n",
      "(2, 1.7183795, 0.3931852)\n",
      "(3, 0.48878351, 0.67636544)\n",
      "(4, 0.13903178, 0.8273949)\n",
      "(5, 0.039546799, 0.90794396)\n",
      "(6, 0.011248848, 0.95090348)\n",
      "(7, 0.0031996702, 0.9738152)\n",
      "(8, 0.00091013481, 0.98603475)\n",
      "(9, 0.00025888125, 0.99255186)\n",
      "(10, 7.3638497e-05, 0.99602765)\n",
      "(11, 2.0945927e-05, 0.99788141)\n",
      "(12, 5.9582126e-06, 0.99887007)\n",
      "(13, 1.6944645e-06, 0.9993974)\n",
      "(14, 4.820219e-07, 0.99967861)\n",
      "(15, 1.3713388e-07, 0.99982858)\n",
      "(16, 3.8991956e-08, 0.99990857)\n",
      "(17, 1.1105257e-08, 0.99995124)\n",
      "(18, 3.1516645e-09, 0.99997401)\n",
      "(19, 9.0173202e-10, 0.99998611)\n",
      "(20, 2.5492378e-10, 0.99999261)\n"
     ]
    }
   ],
   "source": [
    "\n",
    "\n",
    "# Lab 3 Minimizing Cost\n",
    "import tensorflow as tf\n",
    "tf.set_random_seed(777)  # for reproducibility\n",
    "\n",
    "x_data = [1, 2, 3]\n",
    "y_data = [1, 2, 3]\n",
    "\n",
    "# Try to find values for W and b to compute y_data = W * x_data + b\n",
    "# We know that W should be 1 and b should be 0\n",
    "# But let's use TensorFlow to figure it out\n",
    "W = tf.Variable(tf.random_normal([1]), name='weight')\n",
    "\n",
    "X = tf.placeholder(tf.float32)\n",
    "Y = tf.placeholder(tf.float32)\n",
    "\n",
    "# Our hypothesis for linear model X * W\n",
    "hypothesis = X * W\n",
    "\n",
    "# cost/loss function\n",
    "cost = tf.reduce_mean(tf.square(hypothesis - Y))\n",
    "\n",
    "# Minimize: Gradient Descent using derivative: W -= learning_rate * derivative\n",
    "learning_rate = 0.1\n",
    "gradient = tf.reduce_mean((W * X - Y) * X)\n",
    "descent = W - learning_rate * gradient\n",
    "update = W.assign(descent)\n",
    "\n",
    "# Launch the graph in a session.\n",
    "sess = tf.Session()\n",
    "# Initializes global variables in the graph.\n",
    "sess.run(tf.global_variables_initializer())\n",
    "\n",
    "for step in range(21):\n",
    "    sess.run(update, feed_dict={X: x_data, Y: y_data})\n",
    "    print(step, sess.run(cost, feed_dict={X: x_data, Y: y_data}), sess.run(W))\n"
   ]
  }
 ],
 "metadata": {
  "kernelspec": {
   "display_name": "Python 2",
   "language": "python",
   "name": "python2"
  },
  "language_info": {
   "codemirror_mode": {
    "name": "ipython",
    "version": 2
   },
   "file_extension": ".py",
   "mimetype": "text/x-python",
   "name": "python",
   "nbconvert_exporter": "python",
   "pygments_lexer": "ipython2",
   "version": "2.7.11"
  }
 },
 "nbformat": 4,
 "nbformat_minor": 0
}
